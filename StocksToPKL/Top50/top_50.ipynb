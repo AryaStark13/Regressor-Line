{
 "cells": [
  {
   "cell_type": "code",
   "execution_count": 2,
   "metadata": {},
   "outputs": [],
   "source": [
    "import pandas as pd\n",
    "import numpy as np\n",
    "import os\n",
    "import yaml"
   ]
  },
  {
   "cell_type": "code",
   "execution_count": 3,
   "metadata": {},
   "outputs": [],
   "source": [
    "top_50 = pd.read_csv('./top_50_updated.csv')\n",
    "top_50.to_pickle('./top_50.pkl')"
   ]
  },
  {
   "cell_type": "code",
   "execution_count": 5,
   "metadata": {},
   "outputs": [],
   "source": [
    "top_50_dict = {value: { 'symbol': value } for value in top_50['stock']}\n",
    "\n",
    "with open('../sample.yaml', 'r') as yaml_file:\n",
    "    new_yaml = yaml.load(yaml_file, Loader=yaml.SafeLoader)\n",
    "    new_yaml.update(top_50_dict)\n",
    "    \n",
    "with open('../sample.yaml', 'w') as yaml_file:\n",
    "    yaml.safe_dump(new_yaml, yaml_file, sort_keys=False)"
   ]
  },
  {
   "cell_type": "code",
   "execution_count": 1,
   "metadata": {},
   "outputs": [
    {
     "data": {
      "text/plain": [
       "(50, 4)"
      ]
     },
     "execution_count": 1,
     "metadata": {},
     "output_type": "execute_result"
    }
   ],
   "source": [
    "import pandas as pd\n",
    "parameters = pd.read_pickle('top_50.pkl')\n",
    "# parameters.set_index(\"stock\", inplace=True)\n",
    "parameters.shape"
   ]
  },
  {
   "cell_type": "code",
   "execution_count": 2,
   "metadata": {},
   "outputs": [
    {
     "name": "stderr",
     "output_type": "stream",
     "text": [
      "C:\\Users\\ariha\\AppData\\Local\\Temp/ipykernel_9988/10238.py:1: FutureWarning: Using short name for 'orient' is deprecated. Only the options: ('dict', list, 'series', 'split', 'records', 'index') will be used in a future version. Use one of the above to silence this warning.\n",
      "  config = parameters.to_dict(orient='stock')\n"
     ]
    }
   ],
   "source": [
    "config = parameters.to_dict(orient='stock')"
   ]
  },
  {
   "cell_type": "code",
   "execution_count": 7,
   "metadata": {},
   "outputs": [],
   "source": [
    "parameters.to_csv('./top_50.csv', index=False)"
   ]
  },
  {
   "cell_type": "code",
   "execution_count": 6,
   "metadata": {},
   "outputs": [
    {
     "data": {
      "text/html": [
       "<div>\n",
       "<style scoped>\n",
       "    .dataframe tbody tr th:only-of-type {\n",
       "        vertical-align: middle;\n",
       "    }\n",
       "\n",
       "    .dataframe tbody tr th {\n",
       "        vertical-align: top;\n",
       "    }\n",
       "\n",
       "    .dataframe thead th {\n",
       "        text-align: right;\n",
       "    }\n",
       "</style>\n",
       "<table border=\"1\" class=\"dataframe\">\n",
       "  <thead>\n",
       "    <tr style=\"text-align: right;\">\n",
       "      <th></th>\n",
       "      <th>stock</th>\n",
       "      <th>buy_threshold</th>\n",
       "      <th>sell_threshold</th>\n",
       "      <th>lookback_period</th>\n",
       "    </tr>\n",
       "  </thead>\n",
       "  <tbody>\n",
       "    <tr>\n",
       "      <th>0</th>\n",
       "      <td>AARTIIND</td>\n",
       "      <td>0.6</td>\n",
       "      <td>-0.8</td>\n",
       "      <td>14.0</td>\n",
       "    </tr>\n",
       "  </tbody>\n",
       "</table>\n",
       "</div>"
      ],
      "text/plain": [
       "      stock  buy_threshold  sell_threshold  lookback_period\n",
       "0  AARTIIND            0.6            -0.8             14.0"
      ]
     },
     "execution_count": 6,
     "metadata": {},
     "output_type": "execute_result"
    }
   ],
   "source": [
    "import pandas as pd\n",
    "parameters = pd.read_pickle('../../config/top_50.pkl')\n",
    "# parameters.set_index(\"stock\", inplace=True)\n",
    "parameters"
   ]
  }
 ],
 "metadata": {
  "kernelspec": {
   "display_name": "Python 3.9.7 ('base')",
   "language": "python",
   "name": "python3"
  },
  "language_info": {
   "codemirror_mode": {
    "name": "ipython",
    "version": 3
   },
   "file_extension": ".py",
   "mimetype": "text/x-python",
   "name": "python",
   "nbconvert_exporter": "python",
   "pygments_lexer": "ipython3",
   "version": "3.9.7"
  },
  "orig_nbformat": 4,
  "vscode": {
   "interpreter": {
    "hash": "668639ee5e0b6b60edf9bd86e4028f528ab375708257679c0335b842cd428d7b"
   }
  }
 },
 "nbformat": 4,
 "nbformat_minor": 2
}
